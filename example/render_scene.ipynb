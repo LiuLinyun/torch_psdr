{
 "cells": [
  {
   "cell_type": "markdown",
   "metadata": {},
   "source": [
    "# Render Scene\n",
    "\n",
    "Render scene normally without backward propgation."
   ]
  },
  {
   "cell_type": "markdown",
   "metadata": {},
   "source": [
    "## 0. Install and import requirements\n",
    "\n",
    "* torch_psdr: core library\n",
    "* pytorch (cuda): core dependency library\n",
    "* pywavefront: read `.obj` format mesh object\n",
    "* imageio: read image-based texture\n",
    "* matplotlib: show rendered image in notebook\n",
    "\n",
    "**⚠️ Please restart notebook kernel after installation!**"
   ]
  },
  {
   "cell_type": "code",
   "execution_count": null,
   "metadata": {},
   "outputs": [],
   "source": [
    "# torch_psdr is in channel luling. This will install cuda based pytorch automatically\n",
    "! conda install -y torch_psdr -c luling -c pytorch\n",
    "# install other dependencies we need to run this example\n",
    "! conda install -y imageio matplotlab -c conda-forge\n",
    "# install forked pywavefront\n",
    "! conda install pywavefront_uv -c luling"
   ]
  },
  {
   "cell_type": "code",
   "execution_count": null,
   "metadata": {},
   "outputs": [],
   "source": [
    "%matplotlib inline\n",
    "\n",
    "import torch_psdr as dr\n",
    "import torch\n",
    "from pywavefront_uv import Wavefront\n",
    "import matplotlib.pyplot as plt\n",
    "\n",
    "# define some global variables\n",
    "device = \"cuda:0\""
   ]
  },
  {
   "cell_type": "markdown",
   "metadata": {},
   "source": [
    "## 1. Read mesh objects"
   ]
  },
  {
   "cell_type": "code",
   "execution_count": null,
   "metadata": {},
   "outputs": [],
   "source": [
    "def load_obj(obj_path):\n",
    "  scene = Wavefront(obj_path, create_materials=True, collect_faces=True)\n",
    "  vertices = torch.tensor(scene.vertices, dtype=torch.float32, device=device)\n",
    "  print(vertices.size())\n",
    "  uvs = None if scene.parser.tex_coords == [] else torch.tensor(scene.parser.tex_coords, dtype=torch.float32, device=device)\n",
    "  objs = {}\n",
    "  for name, mesh in scene.meshes.items():\n",
    "    if name is None:\n",
    "      name = str(hash(mesh))\n",
    "    indices = torch.tensor(mesh.faces, dtype=torch.int32, device=device)\n",
    "    face_indices = indices[:,:,0]\n",
    "    uv_indices = indices[:,:,1] if indices[0,0,1] != -1 else None\n",
    "    material = mesh.materials[0]\n",
    "    obj = None\n",
    "    if name == \"light\":\n",
    "      emit = torch.tensor(material.ambient[:3], dtype=torch.float32, device=device)\n",
    "      obj = dr.AreaLight(vertices, face_indices, emit)\n",
    "    else:\n",
    "      diffuse = torch.tensor(material.diffuse[:3], dtype=torch.float32, device=device)\n",
    "      normal = None\n",
    "      roughness = torch.tensor([0.5], dtype=torch.float32, device=device)\n",
    "      material = dr.DiffuseBsdfMaterial(diffuse, roughness, normal)\n",
    "      obj = dr.Mesh(vertices, uvs, face_indices, uv_indices, material)\n",
    "    objs[name] = obj\n",
    "  return objs"
   ]
  },
  {
   "cell_type": "code",
   "execution_count": null,
   "metadata": {},
   "outputs": [],
   "source": [
    "obj_path = \"../data/input/cornell_box.obj\"\n",
    "objs = load_obj(obj_path)\n",
    "print(f\"object names: {objs.keys()}\")"
   ]
  },
  {
   "cell_type": "markdown",
   "metadata": {},
   "source": [
    "## 2. Set camera"
   ]
  },
  {
   "cell_type": "code",
   "execution_count": null,
   "metadata": {},
   "outputs": [],
   "source": [
    "look_from = torch.tensor([278, 278, -800], dtype=torch.float32, device=device)\n",
    "look_at = torch.tensor([278, 278, 0], dtype=torch.float32, device=device)\n",
    "up = torch.tensor([0, 1, 0], dtype=torch.float32, device=device)\n",
    "vfov = torch.tensor([torch.deg2rad(torch.tensor(38.0))], dtype=torch.float32, device=device)\n",
    "height, width = 600, 600\n",
    "camera = dr.PerspectiveCamera(\n",
    "  look_from = look_from,\n",
    "  look_at = look_at,\n",
    "  up = up,\n",
    "  vfov = vfov,\n",
    "  height = height,\n",
    "  width = width,\n",
    ")"
   ]
  },
  {
   "cell_type": "markdown",
   "metadata": {},
   "source": [
    "## 3. Construct scene"
   ]
  },
  {
   "cell_type": "code",
   "execution_count": null,
   "metadata": {},
   "outputs": [],
   "source": [
    "cameras = [camera]\n",
    "lights = [objs[\"light\"]]\n",
    "meshes = [obj for name, obj in objs.items() if name != \"light\"]\n",
    "scene = dr.Scene(cameras, meshes, lights)"
   ]
  },
  {
   "cell_type": "markdown",
   "metadata": {},
   "source": [
    "## 4. Configure renderer and render"
   ]
  },
  {
   "cell_type": "code",
   "execution_count": null,
   "metadata": {},
   "outputs": [],
   "source": [
    "integrator = dr.PathIntegrator(\n",
    "  n_pass = 1,\n",
    "  spp_interior = 64,\n",
    "  enable_light_visable=False,\n",
    "  max_bounce=3,\n",
    "  mis_light_samples=3,\n",
    "  mis_bsdf_samples=3,\n",
    ")"
   ]
  },
  {
   "cell_type": "code",
   "execution_count": null,
   "metadata": {},
   "outputs": [],
   "source": [
    "imgs = integrator.renderC(scene)\n",
    "img = imgs[0].detach().cpu().numpy()\n",
    "plt.imshow(img)"
   ]
  },
  {
   "cell_type": "code",
   "execution_count": null,
   "metadata": {},
   "outputs": [],
   "source": []
  }
 ],
 "metadata": {
  "kernelspec": {
   "display_name": "psdr-run",
   "language": "python",
   "name": "python3"
  },
  "language_info": {
   "codemirror_mode": {
    "name": "ipython",
    "version": 3
   },
   "file_extension": ".py",
   "mimetype": "text/x-python",
   "name": "python",
   "nbconvert_exporter": "python",
   "pygments_lexer": "ipython3",
   "version": "3.8.13 (default, Oct 21 2022, 23:50:54) \n[GCC 11.2.0]"
  },
  "orig_nbformat": 4,
  "vscode": {
   "interpreter": {
    "hash": "75f4d79b5265e7e4841cd4401730c162c1fd53010a91a0fa006e7b6ed4e5f2a3"
   }
  }
 },
 "nbformat": 4,
 "nbformat_minor": 2
}
